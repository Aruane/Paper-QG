# QG method code

import networkx as nx
from networkx.algorithms import community
import matplotlib.pyplot as plt
import numpy as np
import math

vetork = [i for i in range(1, 21)]  # Variation of k. Parameter for the QG method

for valork in range(len(vetork)):
    # print('k = ', vetork[valork])
    signals = open('Y5.txt', 'r')
    original_signal = []
    sorted_signal = []
    for line in signals.readlines():
        line = line.strip()
        var = line.split()
        original_signal.append(float(var[0]))
        sorted_signal.append(float(var[0]))

    signals.close()
    sorted_signal.sort()  # Sorting the signal
    Q = 30  # Number of quantiles
    t = [0 for i in range(len(sorted_signal))]
    for i in range(len(sorted_signal)):
        for j in range(len(sorted_signal)):
            if original_signal[j] == sorted_signal[i]:
                t[i] = j
                original_signal[j] = pow(10, 12)
                break
    q = [0 for i in range(Q - 1)]
    for i in range(int(Q) - 1):  # Assigning quantile values to a vector
        q[i] = int((len(sorted_signal) * (1 + i)) / int(Q))
        quantcomp = [0 for i in range(int(Q) + 1)]
    for i in range(1, int(Q)):
        quantcomp[0] = 0
        quantcomp[i] = q[i - 1]
        quantcomp[Q] = int(len(sorted_signal))

    loc = [0 for i in range(len(sorted_signal))]
    for i in range(len(sorted_signal)):  # Adding each element to its quantile and assigning quantile positions to each element
        for j in range(int(Q)):
            if i >= quantcomp[j] and i < quantcomp[j + 1]:
                loc[t[i]] = j

    adjacency_matrix = []
    adjacency_matrix = [Q * [0] for i in range(int(Q))]
    for i in range(len(sorted_signal) - vetork[valork]):  # Connecting the quantiles (nodes)
        adjacency_matrix[loc[i]][loc[i + vetork[valork]]] += 1

    A = np.matrix(adjacency_matrix)

    # Saving the adjacency matrix

    adjacency_file = open('C:/Users/aruan/Downloads/adjacency_matrix/matrizadj_{}.txt'.format(valork + 1), 'w')

    for i in range(len(adjacency_matrix)):
        for j in range(len(adjacency_matrix)):
            adjacency_file.write("%.2f " % adjacency_matrix[i][j])
        adjacency_file.write("\n")

    adjacency_file.close()
